{
 "cells": [
  {
   "cell_type": "code",
   "execution_count": null,
   "metadata": {},
   "outputs": [],
   "source": [
    "import cv2\n",
    "import numpy as np\n",
    "print(cv2.__version__)"
   ]
  },
  {
   "cell_type": "markdown",
   "metadata": {},
   "source": [
    "## Face detection in img"
   ]
  },
  {
   "cell_type": "code",
   "execution_count": null,
   "metadata": {},
   "outputs": [],
   "source": [
    "import cv2\n",
    "import numpy as np\n",
    "faceCascade=cv2.CascadeClassifier(\"C:/Users/hp/Downloads/opencv-master/opencv-master/data/haarcascades/haarcascade_frontalface_default.xml\")\n",
    "img=cv2.imread(\"C:/Users/hp/Downloads/opencv-master/opencv-master/data/haarcascades/face.jpg\")\n",
    "imggray=cv2.cvtColor(img, cv2.COLOR_RGB2GRAY)\n",
    "faces=faceCascade.detectMultiScale(imggray,1.3,5)\n",
    "for (x,y,w,h) in faces:\n",
    "    cv2.rectangle(img,(x,y),(x+w,y+h),(255,0,0),2)\n",
    "    cv2.putText(img,\"face\",(x,y),cv2.FONT_HERSHEY_SIMPLEX,1,(255,0,0),2)\n",
    "cv2.imshow(\"output\",img)\n",
    "cv2.waitKey(0)\n",
    "cv2.destroyAllWindows()"
   ]
  },
  {
   "cell_type": "markdown",
   "metadata": {},
   "source": [
    "## Face and Eye Detection in Live Video Stream"
   ]
  },
  {
   "cell_type": "code",
   "execution_count": null,
   "metadata": {},
   "outputs": [],
   "source": [
    "import cv2\n",
    "import numpy as np\n",
    "cap=cv2.VideoCapture(0)\n",
    "facecascade=cv2.CascadeClassifier(\"C:/Users/hp/Downloads/opencv-master/opencv-master/data/haarcascades/haarcascade_frontalface_default.xml\")\n",
    "eyecascade=cv2.CascadeClassifier(\"C:/Users/hp/Downloads/opencv-master/opencv-master/data/haarcascades/haarcascade_eye.xml\")\n",
    "while True:\n",
    "    success,frame=cap.read()\n",
    "    if success:\n",
    "        frame=cv2.resize(frame,(400,400))\n",
    "        framegray=cv2.cvtColor(frame,cv2.COLOR_RGB2GRAY)\n",
    "        faces=facecascade.detectMultiScale(framegray,1.3,5)\n",
    "        for (x,y,w,h) in faces:\n",
    "            cv2.rectangle(frame,(x,y),(x+w,y+h),(0,0,255),2)\n",
    "            cv2.putText(frame,\"FACE\",(x,y),cv2.FONT_HERSHEY_SIMPLEX,1,(0,0,255),2)\n",
    "            eyegray=framegray[y:y+h,x:x+w]\n",
    "            eyeimg=frame[y:y+h,x:x+w]\n",
    "            eyes=eyecascade.detectMultiScale(eyegray,1.3,5)\n",
    "            for (ex,ey,ew,eh) in eyes:\n",
    "                cv2.rectangle(eyeimg,(ex,ey),(ex+ew,ey+eh),(0,0,255),2)\n",
    "                cv2.putText(eyeimg,\"EYE\",(ex,ey),cv2.FONT_HERSHEY_SIMPLEX,1,(0,0,255),2)\n",
    "        cv2.imshow(\"op\",frame)\n",
    "        if cv2.waitKey(1)==ord('q'):\n",
    "            break\n",
    "    else:\n",
    "        break\n",
    "cap.release()\n",
    "cv2.destroyAllWindows()"
   ]
  },
  {
   "cell_type": "code",
   "execution_count": null,
   "metadata": {},
   "outputs": [],
   "source": []
  }
 ],
 "metadata": {
  "kernelspec": {
   "display_name": "Python 3",
   "language": "python",
   "name": "python3"
  },
  "language_info": {
   "codemirror_mode": {
    "name": "ipython",
    "version": 3
   },
   "file_extension": ".py",
   "mimetype": "text/x-python",
   "name": "python",
   "nbconvert_exporter": "python",
   "pygments_lexer": "ipython3",
   "version": "3.8.5"
  }
 },
 "nbformat": 4,
 "nbformat_minor": 4
}
